{
 "cells": [
  {
   "cell_type": "code",
   "execution_count": 1,
   "id": "9f392739",
   "metadata": {},
   "outputs": [],
   "source": [
    "# Iporting required libraries"
   ]
  },
  {
   "cell_type": "code",
   "execution_count": 20,
   "id": "85a0339c",
   "metadata": {},
   "outputs": [],
   "source": [
    "import pandas as pd # Pandas to handle dataframe\n",
    "import numpy as np # to perform numerical operations on dataframe\n",
    "import seaborn as sns\n",
    "import matplotlib.pyplot as plt\n",
    "\n",
    "from sklearn.tree import DecisionTreeClassifier # Import Decision Tree Classifier\n",
    "from sklearn.model_selection import train_test_split # Import train_test_split function\n",
    "from sklearn import metrics #Import scikit-learn metrics module for accuracy calculation\n",
    "from sklearn.preprocessing import LabelEncoder # Import labelencoder module for encoding categorical values\n",
    "\n",
    "\n",
    "\n",
    "# from sklearn.tree import export_graphviz\n",
    "# from sklearn import tree\n",
    "# from IPython.display import Image  \n",
    "# import pydotplus"
   ]
  },
  {
   "cell_type": "code",
   "execution_count": 3,
   "id": "61d2a195",
   "metadata": {},
   "outputs": [],
   "source": [
    "# reading the data using pandas and stroing it to the variable df"
   ]
  },
  {
   "cell_type": "code",
   "execution_count": 4,
   "id": "2aa96801",
   "metadata": {},
   "outputs": [],
   "source": [
    "main_df = pd.read_csv(\"data (1).csv\")"
   ]
  },
  {
   "cell_type": "code",
   "execution_count": 5,
   "id": "3d5e9b4f",
   "metadata": {},
   "outputs": [
    {
     "data": {
      "text/html": [
       "<div>\n",
       "<style scoped>\n",
       "    .dataframe tbody tr th:only-of-type {\n",
       "        vertical-align: middle;\n",
       "    }\n",
       "\n",
       "    .dataframe tbody tr th {\n",
       "        vertical-align: top;\n",
       "    }\n",
       "\n",
       "    .dataframe thead th {\n",
       "        text-align: right;\n",
       "    }\n",
       "</style>\n",
       "<table border=\"1\" class=\"dataframe\">\n",
       "  <thead>\n",
       "    <tr style=\"text-align: right;\">\n",
       "      <th></th>\n",
       "      <th>Age</th>\n",
       "      <th>Education Years</th>\n",
       "      <th>Experience Years</th>\n",
       "      <th>Relationship Status</th>\n",
       "      <th>Income</th>\n",
       "    </tr>\n",
       "  </thead>\n",
       "  <tbody>\n",
       "    <tr>\n",
       "      <th>0</th>\n",
       "      <td>58</td>\n",
       "      <td>16</td>\n",
       "      <td>16</td>\n",
       "      <td>Married</td>\n",
       "      <td>71370</td>\n",
       "    </tr>\n",
       "    <tr>\n",
       "      <th>1</th>\n",
       "      <td>43</td>\n",
       "      <td>20</td>\n",
       "      <td>36</td>\n",
       "      <td>Unmarried</td>\n",
       "      <td>51649</td>\n",
       "    </tr>\n",
       "    <tr>\n",
       "      <th>2</th>\n",
       "      <td>56</td>\n",
       "      <td>18</td>\n",
       "      <td>32</td>\n",
       "      <td>Unmarried</td>\n",
       "      <td>33283</td>\n",
       "    </tr>\n",
       "    <tr>\n",
       "      <th>3</th>\n",
       "      <td>55</td>\n",
       "      <td>16</td>\n",
       "      <td>20</td>\n",
       "      <td>Unmarried</td>\n",
       "      <td>30531</td>\n",
       "    </tr>\n",
       "    <tr>\n",
       "      <th>4</th>\n",
       "      <td>31</td>\n",
       "      <td>11</td>\n",
       "      <td>3</td>\n",
       "      <td>Unmarried</td>\n",
       "      <td>53201</td>\n",
       "    </tr>\n",
       "  </tbody>\n",
       "</table>\n",
       "</div>"
      ],
      "text/plain": [
       "   Age  Education Years  Experience Years Relationship Status  Income\n",
       "0   58               16                16             Married   71370\n",
       "1   43               20                36           Unmarried   51649\n",
       "2   56               18                32           Unmarried   33283\n",
       "3   55               16                20           Unmarried   30531\n",
       "4   31               11                 3           Unmarried   53201"
      ]
     },
     "execution_count": 5,
     "metadata": {},
     "output_type": "execute_result"
    }
   ],
   "source": [
    "main_df.head()"
   ]
  },
  {
   "cell_type": "code",
   "execution_count": 6,
   "id": "dab800fb",
   "metadata": {},
   "outputs": [],
   "source": [
    "# Getting informed about the data- column names, data type, null values"
   ]
  },
  {
   "cell_type": "code",
   "execution_count": 7,
   "id": "82f4a3a0",
   "metadata": {},
   "outputs": [
    {
     "name": "stdout",
     "output_type": "stream",
     "text": [
      "<class 'pandas.core.frame.DataFrame'>\n",
      "RangeIndex: 100 entries, 0 to 99\n",
      "Data columns (total 5 columns):\n",
      " #   Column               Non-Null Count  Dtype \n",
      "---  ------               --------------  ----- \n",
      " 0   Age                  100 non-null    int64 \n",
      " 1   Education Years      100 non-null    int64 \n",
      " 2   Experience Years     100 non-null    int64 \n",
      " 3   Relationship Status  100 non-null    object\n",
      " 4   Income               100 non-null    int64 \n",
      "dtypes: int64(4), object(1)\n",
      "memory usage: 4.0+ KB\n"
     ]
    }
   ],
   "source": [
    "main_df.info()"
   ]
  },
  {
   "cell_type": "code",
   "execution_count": 8,
   "id": "a8b205cc",
   "metadata": {},
   "outputs": [],
   "source": [
    "# Dataset description statistical information about the dataset "
   ]
  },
  {
   "cell_type": "code",
   "execution_count": 9,
   "id": "b8ccbc0c",
   "metadata": {
    "scrolled": true
   },
   "outputs": [
    {
     "data": {
      "text/html": [
       "<div>\n",
       "<style scoped>\n",
       "    .dataframe tbody tr th:only-of-type {\n",
       "        vertical-align: middle;\n",
       "    }\n",
       "\n",
       "    .dataframe tbody tr th {\n",
       "        vertical-align: top;\n",
       "    }\n",
       "\n",
       "    .dataframe thead th {\n",
       "        text-align: right;\n",
       "    }\n",
       "</style>\n",
       "<table border=\"1\" class=\"dataframe\">\n",
       "  <thead>\n",
       "    <tr style=\"text-align: right;\">\n",
       "      <th></th>\n",
       "      <th>Age</th>\n",
       "      <th>Education Years</th>\n",
       "      <th>Experience Years</th>\n",
       "      <th>Income</th>\n",
       "    </tr>\n",
       "  </thead>\n",
       "  <tbody>\n",
       "    <tr>\n",
       "      <th>count</th>\n",
       "      <td>100.000000</td>\n",
       "      <td>100.000000</td>\n",
       "      <td>100.000000</td>\n",
       "      <td>100.000000</td>\n",
       "    </tr>\n",
       "    <tr>\n",
       "      <th>mean</th>\n",
       "      <td>38.180000</td>\n",
       "      <td>14.410000</td>\n",
       "      <td>20.660000</td>\n",
       "      <td>55516.030000</td>\n",
       "    </tr>\n",
       "    <tr>\n",
       "      <th>std</th>\n",
       "      <td>12.038138</td>\n",
       "      <td>3.728392</td>\n",
       "      <td>11.588239</td>\n",
       "      <td>14993.071081</td>\n",
       "    </tr>\n",
       "    <tr>\n",
       "      <th>min</th>\n",
       "      <td>20.000000</td>\n",
       "      <td>8.000000</td>\n",
       "      <td>0.000000</td>\n",
       "      <td>30021.000000</td>\n",
       "    </tr>\n",
       "    <tr>\n",
       "      <th>25%</th>\n",
       "      <td>27.000000</td>\n",
       "      <td>11.000000</td>\n",
       "      <td>10.000000</td>\n",
       "      <td>43656.250000</td>\n",
       "    </tr>\n",
       "    <tr>\n",
       "      <th>50%</th>\n",
       "      <td>38.000000</td>\n",
       "      <td>15.000000</td>\n",
       "      <td>22.000000</td>\n",
       "      <td>54272.500000</td>\n",
       "    </tr>\n",
       "    <tr>\n",
       "      <th>75%</th>\n",
       "      <td>47.000000</td>\n",
       "      <td>18.000000</td>\n",
       "      <td>31.000000</td>\n",
       "      <td>67996.250000</td>\n",
       "    </tr>\n",
       "    <tr>\n",
       "      <th>max</th>\n",
       "      <td>60.000000</td>\n",
       "      <td>20.000000</td>\n",
       "      <td>40.000000</td>\n",
       "      <td>79820.000000</td>\n",
       "    </tr>\n",
       "  </tbody>\n",
       "</table>\n",
       "</div>"
      ],
      "text/plain": [
       "              Age  Education Years  Experience Years        Income\n",
       "count  100.000000       100.000000        100.000000    100.000000\n",
       "mean    38.180000        14.410000         20.660000  55516.030000\n",
       "std     12.038138         3.728392         11.588239  14993.071081\n",
       "min     20.000000         8.000000          0.000000  30021.000000\n",
       "25%     27.000000        11.000000         10.000000  43656.250000\n",
       "50%     38.000000        15.000000         22.000000  54272.500000\n",
       "75%     47.000000        18.000000         31.000000  67996.250000\n",
       "max     60.000000        20.000000         40.000000  79820.000000"
      ]
     },
     "execution_count": 9,
     "metadata": {},
     "output_type": "execute_result"
    }
   ],
   "source": [
    "main_df.describe()"
   ]
  },
  {
   "cell_type": "code",
   "execution_count": 10,
   "id": "9321c2d5",
   "metadata": {},
   "outputs": [],
   "source": [
    "# Function to add ythe column label to perform the classification machine learning algorithm"
   ]
  },
  {
   "cell_type": "code",
   "execution_count": 11,
   "id": "ac3d4159",
   "metadata": {},
   "outputs": [],
   "source": [
    "def income_binary(df):\n",
    "\n",
    "    df['Income_binary'] = (df['Income'] > 50000).astype(int)\n",
    "        \n",
    "    return df\n",
    "   "
   ]
  },
  {
   "cell_type": "code",
   "execution_count": 12,
   "id": "89e6f613",
   "metadata": {},
   "outputs": [
    {
     "data": {
      "text/html": [
       "<div>\n",
       "<style scoped>\n",
       "    .dataframe tbody tr th:only-of-type {\n",
       "        vertical-align: middle;\n",
       "    }\n",
       "\n",
       "    .dataframe tbody tr th {\n",
       "        vertical-align: top;\n",
       "    }\n",
       "\n",
       "    .dataframe thead th {\n",
       "        text-align: right;\n",
       "    }\n",
       "</style>\n",
       "<table border=\"1\" class=\"dataframe\">\n",
       "  <thead>\n",
       "    <tr style=\"text-align: right;\">\n",
       "      <th></th>\n",
       "      <th>Age</th>\n",
       "      <th>Education Years</th>\n",
       "      <th>Experience Years</th>\n",
       "      <th>Relationship Status</th>\n",
       "      <th>Income</th>\n",
       "      <th>Income_binary</th>\n",
       "    </tr>\n",
       "  </thead>\n",
       "  <tbody>\n",
       "    <tr>\n",
       "      <th>0</th>\n",
       "      <td>58</td>\n",
       "      <td>16</td>\n",
       "      <td>16</td>\n",
       "      <td>Married</td>\n",
       "      <td>71370</td>\n",
       "      <td>1</td>\n",
       "    </tr>\n",
       "    <tr>\n",
       "      <th>1</th>\n",
       "      <td>43</td>\n",
       "      <td>20</td>\n",
       "      <td>36</td>\n",
       "      <td>Unmarried</td>\n",
       "      <td>51649</td>\n",
       "      <td>1</td>\n",
       "    </tr>\n",
       "    <tr>\n",
       "      <th>2</th>\n",
       "      <td>56</td>\n",
       "      <td>18</td>\n",
       "      <td>32</td>\n",
       "      <td>Unmarried</td>\n",
       "      <td>33283</td>\n",
       "      <td>0</td>\n",
       "    </tr>\n",
       "    <tr>\n",
       "      <th>3</th>\n",
       "      <td>55</td>\n",
       "      <td>16</td>\n",
       "      <td>20</td>\n",
       "      <td>Unmarried</td>\n",
       "      <td>30531</td>\n",
       "      <td>0</td>\n",
       "    </tr>\n",
       "    <tr>\n",
       "      <th>4</th>\n",
       "      <td>31</td>\n",
       "      <td>11</td>\n",
       "      <td>3</td>\n",
       "      <td>Unmarried</td>\n",
       "      <td>53201</td>\n",
       "      <td>1</td>\n",
       "    </tr>\n",
       "    <tr>\n",
       "      <th>...</th>\n",
       "      <td>...</td>\n",
       "      <td>...</td>\n",
       "      <td>...</td>\n",
       "      <td>...</td>\n",
       "      <td>...</td>\n",
       "      <td>...</td>\n",
       "    </tr>\n",
       "    <tr>\n",
       "      <th>95</th>\n",
       "      <td>40</td>\n",
       "      <td>18</td>\n",
       "      <td>9</td>\n",
       "      <td>Unmarried</td>\n",
       "      <td>53822</td>\n",
       "      <td>1</td>\n",
       "    </tr>\n",
       "    <tr>\n",
       "      <th>96</th>\n",
       "      <td>22</td>\n",
       "      <td>17</td>\n",
       "      <td>40</td>\n",
       "      <td>Married</td>\n",
       "      <td>43881</td>\n",
       "      <td>0</td>\n",
       "    </tr>\n",
       "    <tr>\n",
       "      <th>97</th>\n",
       "      <td>40</td>\n",
       "      <td>9</td>\n",
       "      <td>20</td>\n",
       "      <td>Divorced</td>\n",
       "      <td>44607</td>\n",
       "      <td>0</td>\n",
       "    </tr>\n",
       "    <tr>\n",
       "      <th>98</th>\n",
       "      <td>58</td>\n",
       "      <td>14</td>\n",
       "      <td>11</td>\n",
       "      <td>Unmarried</td>\n",
       "      <td>53706</td>\n",
       "      <td>1</td>\n",
       "    </tr>\n",
       "    <tr>\n",
       "      <th>99</th>\n",
       "      <td>27</td>\n",
       "      <td>11</td>\n",
       "      <td>34</td>\n",
       "      <td>Complicated</td>\n",
       "      <td>63014</td>\n",
       "      <td>1</td>\n",
       "    </tr>\n",
       "  </tbody>\n",
       "</table>\n",
       "<p>100 rows × 6 columns</p>\n",
       "</div>"
      ],
      "text/plain": [
       "    Age  Education Years  Experience Years Relationship Status  Income  \\\n",
       "0    58               16                16             Married   71370   \n",
       "1    43               20                36           Unmarried   51649   \n",
       "2    56               18                32           Unmarried   33283   \n",
       "3    55               16                20           Unmarried   30531   \n",
       "4    31               11                 3           Unmarried   53201   \n",
       "..  ...              ...               ...                 ...     ...   \n",
       "95   40               18                 9           Unmarried   53822   \n",
       "96   22               17                40             Married   43881   \n",
       "97   40                9                20            Divorced   44607   \n",
       "98   58               14                11           Unmarried   53706   \n",
       "99   27               11                34         Complicated   63014   \n",
       "\n",
       "    Income_binary  \n",
       "0               1  \n",
       "1               1  \n",
       "2               0  \n",
       "3               0  \n",
       "4               1  \n",
       "..            ...  \n",
       "95              1  \n",
       "96              0  \n",
       "97              0  \n",
       "98              1  \n",
       "99              1  \n",
       "\n",
       "[100 rows x 6 columns]"
      ]
     },
     "execution_count": 12,
     "metadata": {},
     "output_type": "execute_result"
    }
   ],
   "source": [
    "converted_col_income_binary = income_binary(main_df)\n",
    "converted_col_income_binary"
   ]
  },
  {
   "cell_type": "code",
   "execution_count": 13,
   "id": "9c3ad078",
   "metadata": {},
   "outputs": [],
   "source": [
    "one_hot_encoded_df = pd.get_dummies(main_df, columns=['Relationship Status'])"
   ]
  },
  {
   "cell_type": "code",
   "execution_count": 14,
   "id": "c8d87c5c",
   "metadata": {},
   "outputs": [],
   "source": [
    "X=one_hot_encoded_df.drop(['Income_binary','Income'], axis=1)\n",
    "y= one_hot_encoded_df[['Income_binary']]"
   ]
  },
  {
   "cell_type": "code",
   "execution_count": 15,
   "id": "0b38c4bb",
   "metadata": {},
   "outputs": [],
   "source": [
    "X_train, X_test, y_train, y_test = train_test_split(X,y,random_state=104,  test_size=0.25, shuffle=True)"
   ]
  },
  {
   "cell_type": "code",
   "execution_count": 16,
   "id": "51ea3f0b",
   "metadata": {},
   "outputs": [],
   "source": [
    "#creating the Decision tree clasifier object\n",
    "clf = DecisionTreeClassifier()\n",
    "\n",
    "#Train the model \n",
    "clf = clf.fit(X_train,y_train)\n",
    "\n",
    "#Predict the response for the test dataset\n",
    "y_pred = clf.predict(X_test)"
   ]
  },
  {
   "cell_type": "code",
   "execution_count": 17,
   "id": "22eb59ee",
   "metadata": {},
   "outputs": [],
   "source": [
    "#Evaluating the Model \n"
   ]
  },
  {
   "cell_type": "code",
   "execution_count": 18,
   "id": "01ca6d87",
   "metadata": {},
   "outputs": [
    {
     "name": "stdout",
     "output_type": "stream",
     "text": [
      "Accuracy: 0.6\n"
     ]
    }
   ],
   "source": [
    "print(\"Accuracy:\",metrics.accuracy_score(y_test,y_pred))"
   ]
  },
  {
   "cell_type": "markdown",
   "id": "deffbc3b",
   "metadata": {},
   "source": [
    "# creating confusion matrix"
   ]
  },
  {
   "cell_type": "code",
   "execution_count": 19,
   "id": "b561c2da",
   "metadata": {},
   "outputs": [],
   "source": [
    "cm_clf = metrics.confusion_matrix(y_test,y_pred)"
   ]
  },
  {
   "cell_type": "code",
   "execution_count": 22,
   "id": "3dec7396",
   "metadata": {},
   "outputs": [
    {
     "data": {
      "image/png": "[encoded data removed]",
      "text/plain": [
       "<Figure size 640x480 with 2 Axes>"
      ]
     },
     "metadata": {},
     "output_type": "display_data"
    }
   ],
   "source": [
    "sns.heatmap(cm_clf,annot=True,fmt='g',\n",
    "           xticklabels=['<50k','>50k'],\n",
    "           yticklabels=['<50k','>50k'])\n",
    "plt.ylabel('Prediction',fontsize=11)\n",
    "plt.xlabel('Actual',fontsize=11)\n",
    "plt.title('Confusion Matrix', fontsize = 15)\n",
    "plt.show()"
   ]
  },
  {
   "cell_type": "code",
   "execution_count": 19,
   "id": "270c0dee",
   "metadata": {},
   "outputs": [],
   "source": [
    "# # Visualize the Decision Tree\n",
    "# dot_data = tree.export_graphviz(clf, out_file=None, \n",
    "#                                 feature_names=X.columns,  \n",
    "#                                 class_names=['0','1'],  \n",
    "#                                 filled=True, rounded=True,  \n",
    "#                                 special_characters=True)  \n",
    "# graph = pydotplus.graph_from_dot_data(dot_data)  \n",
    "# Image(graph.create_png())"
   ]
  },
  {
   "cell_type": "code",
   "execution_count": 23,
   "id": "85f16a42",
   "metadata": {},
   "outputs": [],
   "source": [
    "# Creating Decison Tree classifier (entropy,gini)\n",
    "clf = DecisionTreeClassifier(criterion=\"entropy\",max_depth=3)\n",
    "# Train Decision Tree Clasifier\n",
    "clf = clf.fit(X_train,y_train)\n",
    "#Predict the response for the test dataset\n",
    "y_pred = clf.predict(X_test)"
   ]
  },
  {
   "cell_type": "code",
   "execution_count": 24,
   "id": "b6b225ab",
   "metadata": {},
   "outputs": [
    {
     "name": "stdout",
     "output_type": "stream",
     "text": [
      "Accuracy 0.56\n"
     ]
    }
   ],
   "source": [
    "# Model Accuracy, How often the classifier is correct?\n",
    "print(\"Accuracy\",metrics.accuracy_score(y_test,y_pred))"
   ]
  },
  {
   "cell_type": "code",
   "execution_count": 25,
   "id": "2da8a6f4",
   "metadata": {},
   "outputs": [],
   "source": [
    "cm_clf = metrics.confusion_matrix(y_test,y_pred)"
   ]
  },
  {
   "cell_type": "code",
   "execution_count": 26,
   "id": "7061931d",
   "metadata": {},
   "outputs": [
    {
     "data": {
      "image/png": "[encoded data removed]",
      "text/plain": [
       "<Figure size 640x480 with 2 Axes>"
      ]
     },
     "metadata": {},
     "output_type": "display_data"
    }
   ],
   "source": [
    "sns.heatmap(cm_clf,annot=True,fmt='g',\n",
    "           xticklabels=['<50k','>50k'],\n",
    "           yticklabels=['<50k','>50k'])\n",
    "plt.ylabel('Prediction',fontsize=11)\n",
    "plt.xlabel('Actual',fontsize=11)\n",
    "plt.title('Confusion Matrix', fontsize = 15)\n",
    "plt.show()"
   ]
  },
  {
   "cell_type": "code",
   "execution_count": 27,
   "id": "dc5b27d7",
   "metadata": {},
   "outputs": [],
   "source": [
    "# Trying without implementing hot encoding to the Martitial status  "
   ]
  },
  {
   "cell_type": "code",
   "execution_count": 28,
   "id": "f8460c86",
   "metadata": {},
   "outputs": [
    {
     "data": {
      "text/html": [
       "<div>\n",
       "<style scoped>\n",
       "    .dataframe tbody tr th:only-of-type {\n",
       "        vertical-align: middle;\n",
       "    }\n",
       "\n",
       "    .dataframe tbody tr th {\n",
       "        vertical-align: top;\n",
       "    }\n",
       "\n",
       "    .dataframe thead th {\n",
       "        text-align: right;\n",
       "    }\n",
       "</style>\n",
       "<table border=\"1\" class=\"dataframe\">\n",
       "  <thead>\n",
       "    <tr style=\"text-align: right;\">\n",
       "      <th></th>\n",
       "      <th>Age</th>\n",
       "      <th>Education Years</th>\n",
       "      <th>Experience Years</th>\n",
       "      <th>Relationship Status</th>\n",
       "      <th>Income</th>\n",
       "      <th>Income_binary</th>\n",
       "    </tr>\n",
       "  </thead>\n",
       "  <tbody>\n",
       "    <tr>\n",
       "      <th>0</th>\n",
       "      <td>58</td>\n",
       "      <td>16</td>\n",
       "      <td>16</td>\n",
       "      <td>Married</td>\n",
       "      <td>71370</td>\n",
       "      <td>1</td>\n",
       "    </tr>\n",
       "    <tr>\n",
       "      <th>1</th>\n",
       "      <td>43</td>\n",
       "      <td>20</td>\n",
       "      <td>36</td>\n",
       "      <td>Unmarried</td>\n",
       "      <td>51649</td>\n",
       "      <td>1</td>\n",
       "    </tr>\n",
       "    <tr>\n",
       "      <th>2</th>\n",
       "      <td>56</td>\n",
       "      <td>18</td>\n",
       "      <td>32</td>\n",
       "      <td>Unmarried</td>\n",
       "      <td>33283</td>\n",
       "      <td>0</td>\n",
       "    </tr>\n",
       "    <tr>\n",
       "      <th>3</th>\n",
       "      <td>55</td>\n",
       "      <td>16</td>\n",
       "      <td>20</td>\n",
       "      <td>Unmarried</td>\n",
       "      <td>30531</td>\n",
       "      <td>0</td>\n",
       "    </tr>\n",
       "    <tr>\n",
       "      <th>4</th>\n",
       "      <td>31</td>\n",
       "      <td>11</td>\n",
       "      <td>3</td>\n",
       "      <td>Unmarried</td>\n",
       "      <td>53201</td>\n",
       "      <td>1</td>\n",
       "    </tr>\n",
       "    <tr>\n",
       "      <th>...</th>\n",
       "      <td>...</td>\n",
       "      <td>...</td>\n",
       "      <td>...</td>\n",
       "      <td>...</td>\n",
       "      <td>...</td>\n",
       "      <td>...</td>\n",
       "    </tr>\n",
       "    <tr>\n",
       "      <th>95</th>\n",
       "      <td>40</td>\n",
       "      <td>18</td>\n",
       "      <td>9</td>\n",
       "      <td>Unmarried</td>\n",
       "      <td>53822</td>\n",
       "      <td>1</td>\n",
       "    </tr>\n",
       "    <tr>\n",
       "      <th>96</th>\n",
       "      <td>22</td>\n",
       "      <td>17</td>\n",
       "      <td>40</td>\n",
       "      <td>Married</td>\n",
       "      <td>43881</td>\n",
       "      <td>0</td>\n",
       "    </tr>\n",
       "    <tr>\n",
       "      <th>97</th>\n",
       "      <td>40</td>\n",
       "      <td>9</td>\n",
       "      <td>20</td>\n",
       "      <td>Divorced</td>\n",
       "      <td>44607</td>\n",
       "      <td>0</td>\n",
       "    </tr>\n",
       "    <tr>\n",
       "      <th>98</th>\n",
       "      <td>58</td>\n",
       "      <td>14</td>\n",
       "      <td>11</td>\n",
       "      <td>Unmarried</td>\n",
       "      <td>53706</td>\n",
       "      <td>1</td>\n",
       "    </tr>\n",
       "    <tr>\n",
       "      <th>99</th>\n",
       "      <td>27</td>\n",
       "      <td>11</td>\n",
       "      <td>34</td>\n",
       "      <td>Complicated</td>\n",
       "      <td>63014</td>\n",
       "      <td>1</td>\n",
       "    </tr>\n",
       "  </tbody>\n",
       "</table>\n",
       "<p>100 rows × 6 columns</p>\n",
       "</div>"
      ],
      "text/plain": [
       "    Age  Education Years  Experience Years Relationship Status  Income  \\\n",
       "0    58               16                16             Married   71370   \n",
       "1    43               20                36           Unmarried   51649   \n",
       "2    56               18                32           Unmarried   33283   \n",
       "3    55               16                20           Unmarried   30531   \n",
       "4    31               11                 3           Unmarried   53201   \n",
       "..  ...              ...               ...                 ...     ...   \n",
       "95   40               18                 9           Unmarried   53822   \n",
       "96   22               17                40             Married   43881   \n",
       "97   40                9                20            Divorced   44607   \n",
       "98   58               14                11           Unmarried   53706   \n",
       "99   27               11                34         Complicated   63014   \n",
       "\n",
       "    Income_binary  \n",
       "0               1  \n",
       "1               1  \n",
       "2               0  \n",
       "3               0  \n",
       "4               1  \n",
       "..            ...  \n",
       "95              1  \n",
       "96              0  \n",
       "97              0  \n",
       "98              1  \n",
       "99              1  \n",
       "\n",
       "[100 rows x 6 columns]"
      ]
     },
     "execution_count": 28,
     "metadata": {},
     "output_type": "execute_result"
    }
   ],
   "source": [
    "df_main_wo_ohe = converted_col_income_binary.copy()\n",
    "df_main_wo_ohe"
   ]
  },
  {
   "cell_type": "code",
   "execution_count": 29,
   "id": "e5162482",
   "metadata": {
    "scrolled": true
   },
   "outputs": [
    {
     "data": {
      "text/html": [
       "<div>\n",
       "<style scoped>\n",
       "    .dataframe tbody tr th:only-of-type {\n",
       "        vertical-align: middle;\n",
       "    }\n",
       "\n",
       "    .dataframe tbody tr th {\n",
       "        vertical-align: top;\n",
       "    }\n",
       "\n",
       "    .dataframe thead th {\n",
       "        text-align: right;\n",
       "    }\n",
       "</style>\n",
       "<table border=\"1\" class=\"dataframe\">\n",
       "  <thead>\n",
       "    <tr style=\"text-align: right;\">\n",
       "      <th></th>\n",
       "      <th>Age</th>\n",
       "      <th>Education Years</th>\n",
       "      <th>Experience Years</th>\n",
       "      <th>Relationship Status</th>\n",
       "      <th>Income</th>\n",
       "      <th>Income_binary</th>\n",
       "    </tr>\n",
       "  </thead>\n",
       "  <tbody>\n",
       "    <tr>\n",
       "      <th>0</th>\n",
       "      <td>58</td>\n",
       "      <td>16</td>\n",
       "      <td>16</td>\n",
       "      <td>Married</td>\n",
       "      <td>71370</td>\n",
       "      <td>1</td>\n",
       "    </tr>\n",
       "    <tr>\n",
       "      <th>1</th>\n",
       "      <td>43</td>\n",
       "      <td>20</td>\n",
       "      <td>36</td>\n",
       "      <td>Unmarried</td>\n",
       "      <td>51649</td>\n",
       "      <td>1</td>\n",
       "    </tr>\n",
       "    <tr>\n",
       "      <th>2</th>\n",
       "      <td>56</td>\n",
       "      <td>18</td>\n",
       "      <td>32</td>\n",
       "      <td>Unmarried</td>\n",
       "      <td>33283</td>\n",
       "      <td>0</td>\n",
       "    </tr>\n",
       "    <tr>\n",
       "      <th>3</th>\n",
       "      <td>55</td>\n",
       "      <td>16</td>\n",
       "      <td>20</td>\n",
       "      <td>Unmarried</td>\n",
       "      <td>30531</td>\n",
       "      <td>0</td>\n",
       "    </tr>\n",
       "    <tr>\n",
       "      <th>4</th>\n",
       "      <td>31</td>\n",
       "      <td>11</td>\n",
       "      <td>3</td>\n",
       "      <td>Unmarried</td>\n",
       "      <td>53201</td>\n",
       "      <td>1</td>\n",
       "    </tr>\n",
       "  </tbody>\n",
       "</table>\n",
       "</div>"
      ],
      "text/plain": [
       "   Age  Education Years  Experience Years Relationship Status  Income  \\\n",
       "0   58               16                16             Married   71370   \n",
       "1   43               20                36           Unmarried   51649   \n",
       "2   56               18                32           Unmarried   33283   \n",
       "3   55               16                20           Unmarried   30531   \n",
       "4   31               11                 3           Unmarried   53201   \n",
       "\n",
       "   Income_binary  \n",
       "0              1  \n",
       "1              1  \n",
       "2              0  \n",
       "3              0  \n",
       "4              1  "
      ]
     },
     "execution_count": 29,
     "metadata": {},
     "output_type": "execute_result"
    }
   ],
   "source": [
    "df_main_wo_ohe.head()"
   ]
  },
  {
   "cell_type": "code",
   "execution_count": 30,
   "id": "8c5bed6c",
   "metadata": {},
   "outputs": [],
   "source": [
    "le = LabelEncoder()\n",
    "df_main_wo_ohe['Relationship Status'] = le.fit_transform(\n",
    "    df_main_wo_ohe['Relationship Status'])"
   ]
  },
  {
   "cell_type": "code",
   "execution_count": 31,
   "id": "4d5cd859",
   "metadata": {},
   "outputs": [
    {
     "data": {
      "text/html": [
       "<div>\n",
       "<style scoped>\n",
       "    .dataframe tbody tr th:only-of-type {\n",
       "        vertical-align: middle;\n",
       "    }\n",
       "\n",
       "    .dataframe tbody tr th {\n",
       "        vertical-align: top;\n",
       "    }\n",
       "\n",
       "    .dataframe thead th {\n",
       "        text-align: right;\n",
       "    }\n",
       "</style>\n",
       "<table border=\"1\" class=\"dataframe\">\n",
       "  <thead>\n",
       "    <tr style=\"text-align: right;\">\n",
       "      <th></th>\n",
       "      <th>Age</th>\n",
       "      <th>Education Years</th>\n",
       "      <th>Experience Years</th>\n",
       "      <th>Relationship Status</th>\n",
       "      <th>Income</th>\n",
       "      <th>Income_binary</th>\n",
       "    </tr>\n",
       "  </thead>\n",
       "  <tbody>\n",
       "    <tr>\n",
       "      <th>0</th>\n",
       "      <td>58</td>\n",
       "      <td>16</td>\n",
       "      <td>16</td>\n",
       "      <td>2</td>\n",
       "      <td>71370</td>\n",
       "      <td>1</td>\n",
       "    </tr>\n",
       "    <tr>\n",
       "      <th>1</th>\n",
       "      <td>43</td>\n",
       "      <td>20</td>\n",
       "      <td>36</td>\n",
       "      <td>3</td>\n",
       "      <td>51649</td>\n",
       "      <td>1</td>\n",
       "    </tr>\n",
       "    <tr>\n",
       "      <th>2</th>\n",
       "      <td>56</td>\n",
       "      <td>18</td>\n",
       "      <td>32</td>\n",
       "      <td>3</td>\n",
       "      <td>33283</td>\n",
       "      <td>0</td>\n",
       "    </tr>\n",
       "    <tr>\n",
       "      <th>3</th>\n",
       "      <td>55</td>\n",
       "      <td>16</td>\n",
       "      <td>20</td>\n",
       "      <td>3</td>\n",
       "      <td>30531</td>\n",
       "      <td>0</td>\n",
       "    </tr>\n",
       "    <tr>\n",
       "      <th>4</th>\n",
       "      <td>31</td>\n",
       "      <td>11</td>\n",
       "      <td>3</td>\n",
       "      <td>3</td>\n",
       "      <td>53201</td>\n",
       "      <td>1</td>\n",
       "    </tr>\n",
       "    <tr>\n",
       "      <th>...</th>\n",
       "      <td>...</td>\n",
       "      <td>...</td>\n",
       "      <td>...</td>\n",
       "      <td>...</td>\n",
       "      <td>...</td>\n",
       "      <td>...</td>\n",
       "    </tr>\n",
       "    <tr>\n",
       "      <th>95</th>\n",
       "      <td>40</td>\n",
       "      <td>18</td>\n",
       "      <td>9</td>\n",
       "      <td>3</td>\n",
       "      <td>53822</td>\n",
       "      <td>1</td>\n",
       "    </tr>\n",
       "    <tr>\n",
       "      <th>96</th>\n",
       "      <td>22</td>\n",
       "      <td>17</td>\n",
       "      <td>40</td>\n",
       "      <td>2</td>\n",
       "      <td>43881</td>\n",
       "      <td>0</td>\n",
       "    </tr>\n",
       "    <tr>\n",
       "      <th>97</th>\n",
       "      <td>40</td>\n",
       "      <td>9</td>\n",
       "      <td>20</td>\n",
       "      <td>1</td>\n",
       "      <td>44607</td>\n",
       "      <td>0</td>\n",
       "    </tr>\n",
       "    <tr>\n",
       "      <th>98</th>\n",
       "      <td>58</td>\n",
       "      <td>14</td>\n",
       "      <td>11</td>\n",
       "      <td>3</td>\n",
       "      <td>53706</td>\n",
       "      <td>1</td>\n",
       "    </tr>\n",
       "    <tr>\n",
       "      <th>99</th>\n",
       "      <td>27</td>\n",
       "      <td>11</td>\n",
       "      <td>34</td>\n",
       "      <td>0</td>\n",
       "      <td>63014</td>\n",
       "      <td>1</td>\n",
       "    </tr>\n",
       "  </tbody>\n",
       "</table>\n",
       "<p>100 rows × 6 columns</p>\n",
       "</div>"
      ],
      "text/plain": [
       "    Age  Education Years  Experience Years  Relationship Status  Income  \\\n",
       "0    58               16                16                    2   71370   \n",
       "1    43               20                36                    3   51649   \n",
       "2    56               18                32                    3   33283   \n",
       "3    55               16                20                    3   30531   \n",
       "4    31               11                 3                    3   53201   \n",
       "..  ...              ...               ...                  ...     ...   \n",
       "95   40               18                 9                    3   53822   \n",
       "96   22               17                40                    2   43881   \n",
       "97   40                9                20                    1   44607   \n",
       "98   58               14                11                    3   53706   \n",
       "99   27               11                34                    0   63014   \n",
       "\n",
       "    Income_binary  \n",
       "0               1  \n",
       "1               1  \n",
       "2               0  \n",
       "3               0  \n",
       "4               1  \n",
       "..            ...  \n",
       "95              1  \n",
       "96              0  \n",
       "97              0  \n",
       "98              1  \n",
       "99              1  \n",
       "\n",
       "[100 rows x 6 columns]"
      ]
     },
     "execution_count": 31,
     "metadata": {},
     "output_type": "execute_result"
    }
   ],
   "source": [
    "df_main_wo_ohe"
   ]
  },
  {
   "cell_type": "code",
   "execution_count": 32,
   "id": "281cd971",
   "metadata": {},
   "outputs": [],
   "source": [
    "x = df_main_wo_ohe.drop(['Income','Income_binary'],axis=1)\n",
    "y1 = df_main_wo_ohe[['Income_binary']] "
   ]
  },
  {
   "cell_type": "code",
   "execution_count": 33,
   "id": "b4e657d4",
   "metadata": {},
   "outputs": [],
   "source": [
    "x_train, x_test, y1_train, y1_test = train_test_split(x,y1,random_state=104,  test_size=0.35, shuffle=True)"
   ]
  },
  {
   "cell_type": "code",
   "execution_count": 34,
   "id": "51c9e6da",
   "metadata": {},
   "outputs": [],
   "source": [
    "clf_l = DecisionTreeClassifier()\n",
    "\n",
    "clf_m1 = clf_l.fit(x_train,y1_train)\n",
    "\n",
    "y_pred_ = clf_m1.predict(x_test)"
   ]
  },
  {
   "cell_type": "code",
   "execution_count": 35,
   "id": "b5c856fe",
   "metadata": {},
   "outputs": [
    {
     "name": "stdout",
     "output_type": "stream",
     "text": [
      "Accuracy of model without one:  0.6\n"
     ]
    }
   ],
   "source": [
    "print(\"Accuracy of model without one: \",metrics.accuracy_score(y1_test,y_pred_))"
   ]
  },
  {
   "cell_type": "code",
   "execution_count": 36,
   "id": "bd1420de",
   "metadata": {},
   "outputs": [
    {
     "data": {
      "image/png": "[encoded data removed]",
      "text/plain": [
       "<Figure size 640x480 with 2 Axes>"
      ]
     },
     "metadata": {},
     "output_type": "display_data"
    }
   ],
   "source": [
    "cm_clf_m1 = metrics.confusion_matrix(y1_test,y_pred_)\n",
    "\n",
    "sns.heatmap(cm_clf_m1,annot=True,fmt='g',\n",
    "           xticklabels=['<50k','>50k'],\n",
    "           yticklabels=['<50k','>50k'])\n",
    "plt.ylabel('Prediction',fontsize=11)\n",
    "plt.xlabel('Actual',fontsize=11)\n",
    "plt.title('Confusion Matrix', fontsize = 15)\n",
    "plt.show()"
   ]
  },
  {
   "cell_type": "code",
   "execution_count": 37,
   "id": "3c4f99a6",
   "metadata": {},
   "outputs": [],
   "source": [
    "# Trying diffrent approach pther than the adding 1000 to each value of the relationship status to normalize the value"
   ]
  },
  {
   "cell_type": "code",
   "execution_count": 38,
   "id": "ad1a05af",
   "metadata": {},
   "outputs": [],
   "source": [
    "df_nomalized = df_main_wo_ohe.copy(deep=True)"
   ]
  },
  {
   "cell_type": "code",
   "execution_count": 39,
   "id": "c0010196",
   "metadata": {},
   "outputs": [],
   "source": [
    "df_nomalized['Relationship Status'] = df_nomalized['Relationship Status'] +1000"
   ]
  },
  {
   "cell_type": "code",
   "execution_count": 40,
   "id": "3fe4e3d9",
   "metadata": {},
   "outputs": [
    {
     "data": {
      "text/html": [
       "<div>\n",
       "<style scoped>\n",
       "    .dataframe tbody tr th:only-of-type {\n",
       "        vertical-align: middle;\n",
       "    }\n",
       "\n",
       "    .dataframe tbody tr th {\n",
       "        vertical-align: top;\n",
       "    }\n",
       "\n",
       "    .dataframe thead th {\n",
       "        text-align: right;\n",
       "    }\n",
       "</style>\n",
       "<table border=\"1\" class=\"dataframe\">\n",
       "  <thead>\n",
       "    <tr style=\"text-align: right;\">\n",
       "      <th></th>\n",
       "      <th>Age</th>\n",
       "      <th>Education Years</th>\n",
       "      <th>Experience Years</th>\n",
       "      <th>Relationship Status</th>\n",
       "      <th>Income</th>\n",
       "      <th>Income_binary</th>\n",
       "    </tr>\n",
       "  </thead>\n",
       "  <tbody>\n",
       "    <tr>\n",
       "      <th>68</th>\n",
       "      <td>35</td>\n",
       "      <td>14</td>\n",
       "      <td>27</td>\n",
       "      <td>1000</td>\n",
       "      <td>64517</td>\n",
       "      <td>1</td>\n",
       "    </tr>\n",
       "    <tr>\n",
       "      <th>74</th>\n",
       "      <td>30</td>\n",
       "      <td>16</td>\n",
       "      <td>3</td>\n",
       "      <td>1001</td>\n",
       "      <td>48899</td>\n",
       "      <td>0</td>\n",
       "    </tr>\n",
       "    <tr>\n",
       "      <th>8</th>\n",
       "      <td>31</td>\n",
       "      <td>16</td>\n",
       "      <td>6</td>\n",
       "      <td>1002</td>\n",
       "      <td>62246</td>\n",
       "      <td>1</td>\n",
       "    </tr>\n",
       "    <tr>\n",
       "      <th>45</th>\n",
       "      <td>24</td>\n",
       "      <td>11</td>\n",
       "      <td>9</td>\n",
       "      <td>1002</td>\n",
       "      <td>54044</td>\n",
       "      <td>1</td>\n",
       "    </tr>\n",
       "    <tr>\n",
       "      <th>62</th>\n",
       "      <td>37</td>\n",
       "      <td>10</td>\n",
       "      <td>28</td>\n",
       "      <td>1001</td>\n",
       "      <td>74277</td>\n",
       "      <td>1</td>\n",
       "    </tr>\n",
       "  </tbody>\n",
       "</table>\n",
       "</div>"
      ],
      "text/plain": [
       "    Age  Education Years  Experience Years  Relationship Status  Income  \\\n",
       "68   35               14                27                 1000   64517   \n",
       "74   30               16                 3                 1001   48899   \n",
       "8    31               16                 6                 1002   62246   \n",
       "45   24               11                 9                 1002   54044   \n",
       "62   37               10                28                 1001   74277   \n",
       "\n",
       "    Income_binary  \n",
       "68              1  \n",
       "74              0  \n",
       "8               1  \n",
       "45              1  \n",
       "62              1  "
      ]
     },
     "execution_count": 40,
     "metadata": {},
     "output_type": "execute_result"
    }
   ],
   "source": [
    "df_nomalized.sample(5)"
   ]
  },
  {
   "cell_type": "code",
   "execution_count": 41,
   "id": "7136ac42",
   "metadata": {},
   "outputs": [
    {
     "data": {
      "text/html": [
       "<div>\n",
       "<style scoped>\n",
       "    .dataframe tbody tr th:only-of-type {\n",
       "        vertical-align: middle;\n",
       "    }\n",
       "\n",
       "    .dataframe tbody tr th {\n",
       "        vertical-align: top;\n",
       "    }\n",
       "\n",
       "    .dataframe thead th {\n",
       "        text-align: right;\n",
       "    }\n",
       "</style>\n",
       "<table border=\"1\" class=\"dataframe\">\n",
       "  <thead>\n",
       "    <tr style=\"text-align: right;\">\n",
       "      <th></th>\n",
       "      <th>Age</th>\n",
       "      <th>Education Years</th>\n",
       "      <th>Experience Years</th>\n",
       "      <th>Relationship Status</th>\n",
       "      <th>Income</th>\n",
       "      <th>Income_binary</th>\n",
       "    </tr>\n",
       "  </thead>\n",
       "  <tbody>\n",
       "    <tr>\n",
       "      <th>Age</th>\n",
       "      <td>1.000000</td>\n",
       "      <td>0.050776</td>\n",
       "      <td>0.183564</td>\n",
       "      <td>0.105475</td>\n",
       "      <td>0.168260</td>\n",
       "      <td>0.154087</td>\n",
       "    </tr>\n",
       "    <tr>\n",
       "      <th>Education Years</th>\n",
       "      <td>0.050776</td>\n",
       "      <td>1.000000</td>\n",
       "      <td>0.051420</td>\n",
       "      <td>0.050650</td>\n",
       "      <td>0.007441</td>\n",
       "      <td>-0.005582</td>\n",
       "    </tr>\n",
       "    <tr>\n",
       "      <th>Experience Years</th>\n",
       "      <td>0.183564</td>\n",
       "      <td>0.051420</td>\n",
       "      <td>1.000000</td>\n",
       "      <td>0.014426</td>\n",
       "      <td>0.062493</td>\n",
       "      <td>-0.087592</td>\n",
       "    </tr>\n",
       "    <tr>\n",
       "      <th>Relationship Status</th>\n",
       "      <td>0.105475</td>\n",
       "      <td>0.050650</td>\n",
       "      <td>0.014426</td>\n",
       "      <td>1.000000</td>\n",
       "      <td>-0.097065</td>\n",
       "      <td>-0.046341</td>\n",
       "    </tr>\n",
       "    <tr>\n",
       "      <th>Income</th>\n",
       "      <td>0.168260</td>\n",
       "      <td>0.007441</td>\n",
       "      <td>0.062493</td>\n",
       "      <td>-0.097065</td>\n",
       "      <td>1.000000</td>\n",
       "      <td>0.836626</td>\n",
       "    </tr>\n",
       "    <tr>\n",
       "      <th>Income_binary</th>\n",
       "      <td>0.154087</td>\n",
       "      <td>-0.005582</td>\n",
       "      <td>-0.087592</td>\n",
       "      <td>-0.046341</td>\n",
       "      <td>0.836626</td>\n",
       "      <td>1.000000</td>\n",
       "    </tr>\n",
       "  </tbody>\n",
       "</table>\n",
       "</div>"
      ],
      "text/plain": [
       "                          Age  Education Years  Experience Years  \\\n",
       "Age                  1.000000         0.050776          0.183564   \n",
       "Education Years      0.050776         1.000000          0.051420   \n",
       "Experience Years     0.183564         0.051420          1.000000   \n",
       "Relationship Status  0.105475         0.050650          0.014426   \n",
       "Income               0.168260         0.007441          0.062493   \n",
       "Income_binary        0.154087        -0.005582         -0.087592   \n",
       "\n",
       "                     Relationship Status    Income  Income_binary  \n",
       "Age                             0.105475  0.168260       0.154087  \n",
       "Education Years                 0.050650  0.007441      -0.005582  \n",
       "Experience Years                0.014426  0.062493      -0.087592  \n",
       "Relationship Status             1.000000 -0.097065      -0.046341  \n",
       "Income                         -0.097065  1.000000       0.836626  \n",
       "Income_binary                  -0.046341  0.836626       1.000000  "
      ]
     },
     "execution_count": 41,
     "metadata": {},
     "output_type": "execute_result"
    }
   ],
   "source": [
    "df_nomalized.corr()"
   ]
  },
  {
   "cell_type": "markdown",
   "id": "19ba22a4",
   "metadata": {},
   "source": [
    " Applying Machine Leanring MOdel to evaluate the effictiveness of normalization of the realtionship status to check weather it has any impact on the accuracy or not"
   ]
  },
  {
   "cell_type": "code",
   "execution_count": 42,
   "id": "15558412",
   "metadata": {},
   "outputs": [],
   "source": [
    "X2 = df_nomalized.drop(['Income','Income_binary'],axis=1)\n",
    "y2 = df_nomalized[['Income_binary']] "
   ]
  },
  {
   "cell_type": "code",
   "execution_count": 43,
   "id": "aa22cb46",
   "metadata": {},
   "outputs": [],
   "source": [
    "X2_train, X2_test, y2_train, y2_test = train_test_split(X2,y2,random_state=96,test_size=0.3,shuffle=True)"
   ]
  },
  {
   "cell_type": "code",
   "execution_count": 44,
   "id": "5c407cae",
   "metadata": {},
   "outputs": [],
   "source": [
    "clf_2 = DecisionTreeClassifier()\n",
    "\n",
    "clf_m2 = clf_2.fit(X2_train,y2_train)\n",
    "\n",
    "y_pred2 = clf_m2.predict(X2_test)"
   ]
  },
  {
   "cell_type": "code",
   "execution_count": 45,
   "id": "1ae6aee8",
   "metadata": {},
   "outputs": [
    {
     "name": "stdout",
     "output_type": "stream",
     "text": [
      "Acuuracy Normalized : 0.43333333333333335\n"
     ]
    }
   ],
   "source": [
    "print(\"Acuuracy Normalized :\",metrics.accuracy_score(y2_test,y_pred2))"
   ]
  },
  {
   "cell_type": "code",
   "execution_count": 46,
   "id": "1060cead",
   "metadata": {},
   "outputs": [
    {
     "data": {
      "image/png": "[encoded data removed]",
      "text/plain": [
       "<Figure size 640x480 with 2 Axes>"
      ]
     },
     "metadata": {},
     "output_type": "display_data"
    }
   ],
   "source": [
    "cm_clf_m2 = metrics.confusion_matrix(y2_test,y_pred2)\n",
    "\n",
    "sns.heatmap(cm_clf_m2,annot=True,fmt='g',\n",
    "           xticklabels=['<50k','>50k'],\n",
    "           yticklabels=['<50k','>50k'])\n",
    "plt.ylabel('Prediction',fontsize=11)\n",
    "plt.xlabel('Actual',fontsize=11)\n",
    "plt.title('Confusion Matrix', fontsize = 15)\n",
    "plt.show()"
   ]
  },
  {
   "cell_type": "markdown",
   "id": "888eba7b",
   "metadata": {},
   "source": [
    "Tried diffrent approach to achieve the higher accuracy with the same model Decision tree but the maximum acuracy obtained was only 60 percent and that was without one hot encoding "
   ]
  },
  {
   "cell_type": "markdown",
   "id": "6219312e",
   "metadata": {},
   "source": [
    "Still i will try with different approach to achieve higher accuracy "
   ]
  },
  {
   "cell_type": "code",
   "execution_count": null,
   "id": "379db078",
   "metadata": {},
   "outputs": [],
   "source": []
  }
 ],
 "metadata": {
  "kernelspec": {
   "display_name": "Python 3 (ipykernel)",
   "language": "python",
   "name": "python3"
  },
  "language_info": {
   "codemirror_mode": {
    "name": "ipython",
    "version": 3
   },
   "file_extension": ".py",
   "mimetype": "text/x-python",
   "name": "python",
   "nbconvert_exporter": "python",
   "pygments_lexer": "ipython3",
   "version": "3.8.2"
  }
 },
 "nbformat": 4,
 "nbformat_minor": 5
}
